{
 "cells": [
  {
   "cell_type": "markdown",
   "id": "65905250",
   "metadata": {},
   "source": [
    "### Rabbits and Recurrence Relations\n",
    "\n",
    "Assumptions:\n",
    "1. The population begins in the first month with a pair of newborn rabbits.\n",
    "2. Rabbits reach reproductive age after one month.\n",
    "3. In any given month, every rabbit of reproductive age mates with another rabbit of reproductive age.\n",
    "4. Exactly one month after two rabbits mate, they produce one male and one female rabbit.\n",
    "5. Rabbits never die or stop reproducing.\n",
    "\n",
    "Given: Positive integers $n≤40$ and $k≤5$.\n",
    "\n",
    "Return: The total number of rabbit pairs that will be present after $n$ months, if we begin with 1 pair and in each generation, every pair of reproduction-age rabbits produces a litter of $k$ rabbit pairs (instead of only 1 pair)."
   ]
  },
  {
   "cell_type": "code",
   "execution_count": 21,
   "id": "e144baff",
   "metadata": {},
   "outputs": [
    {
     "data": {
      "text/plain": [
       "112316396483406"
      ]
     },
     "execution_count": 21,
     "metadata": {},
     "output_type": "execute_result"
    }
   ],
   "source": [
    "def rabbits(n, k):\n",
    "    months = n-1\n",
    "    litsize = k\n",
    "    newborn = 1\n",
    "    Ojuvenile = 0\n",
    "    Njuvenile = 0\n",
    "    adult = 0\n",
    "    \n",
    "    while months > 0:\n",
    "        \n",
    "        Njuvenile = newborn\n",
    "        adult = adult + Ojuvenile\n",
    "        newborn = adult*litsize\n",
    "        Ojuvenile = Njuvenile\n",
    "        pop = adult + newborn + Ojuvenile\n",
    "        months -= 1\n",
    "    return pop   \n",
    "                \n",
    "rabbits(33,5)"
   ]
  },
  {
   "attachments": {},
   "cell_type": "markdown",
   "id": "efde47c1",
   "metadata": {},
   "source": [
    "This feels really clunky, but I like how each variable is defined in an easily identifiable way specific to the prompt, and you can see the juvenile rabbits \"maturing\" in the code."
   ]
  },
  {
   "attachments": {},
   "cell_type": "markdown",
   "id": "58a57e6e",
   "metadata": {},
   "source": [
    "### Other people's answers I also like:\n",
    "\n",
    "1. using dynamic programming and cache"
   ]
  },
  {
   "cell_type": "code",
   "execution_count": 23,
   "id": "e4988d46",
   "metadata": {},
   "outputs": [
    {
     "data": {
      "text/plain": [
       "19"
      ]
     },
     "execution_count": 23,
     "metadata": {},
     "output_type": "execute_result"
    }
   ],
   "source": [
    "fibocache = {}\n",
    "def fibo(n,k):\n",
    "    if n == 2 or n == 1:\n",
    "        return 1\n",
    "    if (n,k) not in fibocache:\n",
    "        fibocache[(n,k)] = fibo(n-1,k) + fibo(n-2,k) * k\n",
    "    return fibocache[(n,k)]\n",
    "fibo(5,3)"
   ]
  },
  {
   "attachments": {},
   "cell_type": "markdown",
   "id": "13188099",
   "metadata": {},
   "source": [
    "2. using a `for` loop"
   ]
  },
  {
   "cell_type": "code",
   "execution_count": 24,
   "id": "87a1ec56",
   "metadata": {},
   "outputs": [
    {
     "data": {
      "text/plain": [
       "19"
      ]
     },
     "execution_count": 24,
     "metadata": {},
     "output_type": "execute_result"
    }
   ],
   "source": [
    "def fib(n, k):\n",
    "    previous1, previous2 = 1, 1\n",
    "    for i in range(2, n):\n",
    "        current = previous1 + k * previous2\n",
    "        previous2 = previous1\n",
    "        previous1 = current\n",
    "    return current\n",
    "fib(5,3)"
   ]
  }
 ],
 "metadata": {
  "kernelspec": {
   "display_name": "Python 3 (ipykernel)",
   "language": "python",
   "name": "python3"
  },
  "language_info": {
   "codemirror_mode": {
    "name": "ipython",
    "version": 3
   },
   "file_extension": ".py",
   "mimetype": "text/x-python",
   "name": "python",
   "nbconvert_exporter": "python",
   "pygments_lexer": "ipython3",
   "version": "3.11.1"
  }
 },
 "nbformat": 4,
 "nbformat_minor": 5
}
